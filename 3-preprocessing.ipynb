{
 "cells": [
  {
   "cell_type": "markdown",
   "metadata": {},
   "source": [
    "# Pré-processamento dos dados"
   ]
  },
  {
   "cell_type": "code",
   "execution_count": 1,
   "metadata": {},
   "outputs": [],
   "source": [
    "import pandas as pd\n",
    "import numpy as np\n",
    "from scipy import signal \n",
    "from sklearn.preprocessing import MinMaxScaler\n",
    "from sklearn.model_selection import train_test_split\n",
    "from imblearn.over_sampling import SMOTE\n",
    "import matplotlib.pyplot as plt\n",
    "import seaborn as sns\n",
    "%matplotlib inline\n",
    "sns.set()"
   ]
  },
  {
   "cell_type": "code",
   "execution_count": 2,
   "metadata": {},
   "outputs": [
    {
     "data": {
      "text/html": [
       "<div>\n",
       "<style scoped>\n",
       "    .dataframe tbody tr th:only-of-type {\n",
       "        vertical-align: middle;\n",
       "    }\n",
       "\n",
       "    .dataframe tbody tr th {\n",
       "        vertical-align: top;\n",
       "    }\n",
       "\n",
       "    .dataframe thead th {\n",
       "        text-align: right;\n",
       "    }\n",
       "</style>\n",
       "<table border=\"1\" class=\"dataframe\">\n",
       "  <thead>\n",
       "    <tr style=\"text-align: right;\">\n",
       "      <th></th>\n",
       "      <th>data</th>\n",
       "      <th>estacao</th>\n",
       "      <th>latitude</th>\n",
       "      <th>longitude</th>\n",
       "      <th>vento_zonal</th>\n",
       "      <th>vento_meridional</th>\n",
       "      <th>temperatura</th>\n",
       "      <th>temperatura_orvalho</th>\n",
       "      <th>pressao_reduzida</th>\n",
       "      <th>precipitacao</th>\n",
       "    </tr>\n",
       "  </thead>\n",
       "  <tbody>\n",
       "    <tr>\n",
       "      <th>0</th>\n",
       "      <td>2014-01-01 00:00:00</td>\n",
       "      <td>13001</td>\n",
       "      <td>11.47</td>\n",
       "      <td>-23.0</td>\n",
       "      <td>-2.385</td>\n",
       "      <td>-5.073</td>\n",
       "      <td>20.288</td>\n",
       "      <td>14.147</td>\n",
       "      <td>1013.67</td>\n",
       "      <td>0.0</td>\n",
       "    </tr>\n",
       "    <tr>\n",
       "      <th>1</th>\n",
       "      <td>2014-01-01 06:00:00</td>\n",
       "      <td>13001</td>\n",
       "      <td>11.47</td>\n",
       "      <td>-23.0</td>\n",
       "      <td>-2.632</td>\n",
       "      <td>-4.503</td>\n",
       "      <td>20.684</td>\n",
       "      <td>16.142</td>\n",
       "      <td>1013.79</td>\n",
       "      <td>0.0</td>\n",
       "    </tr>\n",
       "    <tr>\n",
       "      <th>2</th>\n",
       "      <td>2014-01-01 12:00:00</td>\n",
       "      <td>13001</td>\n",
       "      <td>11.47</td>\n",
       "      <td>-23.0</td>\n",
       "      <td>-4.116</td>\n",
       "      <td>-5.625</td>\n",
       "      <td>21.565</td>\n",
       "      <td>17.618</td>\n",
       "      <td>1012.75</td>\n",
       "      <td>0.0</td>\n",
       "    </tr>\n",
       "    <tr>\n",
       "      <th>3</th>\n",
       "      <td>2014-01-01 18:00:00</td>\n",
       "      <td>13001</td>\n",
       "      <td>11.47</td>\n",
       "      <td>-23.0</td>\n",
       "      <td>-6.187</td>\n",
       "      <td>-4.209</td>\n",
       "      <td>22.429</td>\n",
       "      <td>17.321</td>\n",
       "      <td>1009.87</td>\n",
       "      <td>0.0</td>\n",
       "    </tr>\n",
       "    <tr>\n",
       "      <th>4</th>\n",
       "      <td>2014-01-02 00:00:00</td>\n",
       "      <td>13001</td>\n",
       "      <td>11.47</td>\n",
       "      <td>-23.0</td>\n",
       "      <td>-3.295</td>\n",
       "      <td>-2.950</td>\n",
       "      <td>23.307</td>\n",
       "      <td>16.578</td>\n",
       "      <td>1012.66</td>\n",
       "      <td>0.0</td>\n",
       "    </tr>\n",
       "  </tbody>\n",
       "</table>\n",
       "</div>"
      ],
      "text/plain": [
       "                  data estacao latitude longitude  vento_zonal  \\\n",
       "0  2014-01-01 00:00:00   13001    11.47     -23.0       -2.385   \n",
       "1  2014-01-01 06:00:00   13001    11.47     -23.0       -2.632   \n",
       "2  2014-01-01 12:00:00   13001    11.47     -23.0       -4.116   \n",
       "3  2014-01-01 18:00:00   13001    11.47     -23.0       -6.187   \n",
       "4  2014-01-02 00:00:00   13001    11.47     -23.0       -3.295   \n",
       "\n",
       "   vento_meridional  temperatura  temperatura_orvalho  pressao_reduzida  \\\n",
       "0            -5.073       20.288               14.147           1013.67   \n",
       "1            -4.503       20.684               16.142           1013.79   \n",
       "2            -5.625       21.565               17.618           1012.75   \n",
       "3            -4.209       22.429               17.321           1009.87   \n",
       "4            -2.950       23.307               16.578           1012.66   \n",
       "\n",
       "   precipitacao  \n",
       "0           0.0  \n",
       "1           0.0  \n",
       "2           0.0  \n",
       "3           0.0  \n",
       "4           0.0  "
      ]
     },
     "execution_count": 2,
     "metadata": {},
     "output_type": "execute_result"
    }
   ],
   "source": [
    "columns_types = {'data':'category', 'estacao':'category','latitude':'object', 'longitude':'object', 'vento_zonal':np.float64, \n",
    "                 'vento_meridional':np.float64, 'temperatura':np.float64, 'temperatura_orvalho':np.float64 ,\n",
    "                 'pressao_reduzida':np.float64 ,'precipitacao':np.float64}\n",
    "\n",
    "df = pd.read_csv('./dados/T299x/2014/T299_2014_clean.csv', dtype=columns_types)\n",
    "df.head()"
   ]
  },
  {
   "cell_type": "markdown",
   "metadata": {},
   "source": [
    "## Transformação dos dados"
   ]
  },
  {
   "cell_type": "code",
   "execution_count": 3,
   "metadata": {},
   "outputs": [],
   "source": [
    "df.set_index(pd.DatetimeIndex(df['data']), inplace=True)\n",
    "df.sort_index(inplace=True)\n",
    "df.drop('data', axis=1, inplace=True)"
   ]
  },
  {
   "cell_type": "markdown",
   "metadata": {},
   "source": [
    "### Hierarquia conceitual"
   ]
  },
  {
   "cell_type": "markdown",
   "metadata": {},
   "source": [
    "Transformando os dados em um frequência diária, ou seja, uma observação por dia em cada estação, ao invés de quatro observações (a cada 6 horas)."
   ]
  },
  {
   "cell_type": "code",
   "execution_count": 4,
   "metadata": {},
   "outputs": [
    {
     "data": {
      "text/html": [
       "<div>\n",
       "<style scoped>\n",
       "    .dataframe tbody tr th:only-of-type {\n",
       "        vertical-align: middle;\n",
       "    }\n",
       "\n",
       "    .dataframe tbody tr th {\n",
       "        vertical-align: top;\n",
       "    }\n",
       "\n",
       "    .dataframe thead th {\n",
       "        text-align: right;\n",
       "    }\n",
       "</style>\n",
       "<table border=\"1\" class=\"dataframe\">\n",
       "  <thead>\n",
       "    <tr style=\"text-align: right;\">\n",
       "      <th></th>\n",
       "      <th></th>\n",
       "      <th></th>\n",
       "      <th></th>\n",
       "      <th>vento_zonal</th>\n",
       "      <th>vento_meridional</th>\n",
       "      <th>temperatura</th>\n",
       "      <th>temperatura_orvalho</th>\n",
       "      <th>pressao_reduzida</th>\n",
       "      <th>precipitacao</th>\n",
       "    </tr>\n",
       "    <tr>\n",
       "      <th>estacao</th>\n",
       "      <th>latitude</th>\n",
       "      <th>longitude</th>\n",
       "      <th>data</th>\n",
       "      <th></th>\n",
       "      <th></th>\n",
       "      <th></th>\n",
       "      <th></th>\n",
       "      <th></th>\n",
       "      <th></th>\n",
       "    </tr>\n",
       "  </thead>\n",
       "  <tbody>\n",
       "    <tr>\n",
       "      <th rowspan=\"5\" valign=\"top\">SYCJ</th>\n",
       "      <th rowspan=\"5\" valign=\"top\">6.5</th>\n",
       "      <th rowspan=\"5\" valign=\"top\">-58.25</th>\n",
       "      <th>2014-12-27</th>\n",
       "      <td>-2.42125</td>\n",
       "      <td>-1.18900</td>\n",
       "      <td>24.71025</td>\n",
       "      <td>22.90875</td>\n",
       "      <td>1011.8875</td>\n",
       "      <td>11.2240</td>\n",
       "    </tr>\n",
       "    <tr>\n",
       "      <th>2014-12-28</th>\n",
       "      <td>-1.44150</td>\n",
       "      <td>-1.30950</td>\n",
       "      <td>24.14950</td>\n",
       "      <td>22.45925</td>\n",
       "      <td>1012.5300</td>\n",
       "      <td>9.5920</td>\n",
       "    </tr>\n",
       "    <tr>\n",
       "      <th>2014-12-29</th>\n",
       "      <td>-1.89675</td>\n",
       "      <td>-1.10675</td>\n",
       "      <td>24.44250</td>\n",
       "      <td>22.60175</td>\n",
       "      <td>1012.4500</td>\n",
       "      <td>10.1015</td>\n",
       "    </tr>\n",
       "    <tr>\n",
       "      <th>2014-12-30</th>\n",
       "      <td>-1.99275</td>\n",
       "      <td>-1.36400</td>\n",
       "      <td>24.46775</td>\n",
       "      <td>22.60025</td>\n",
       "      <td>1013.2025</td>\n",
       "      <td>16.6095</td>\n",
       "    </tr>\n",
       "    <tr>\n",
       "      <th>2014-12-31</th>\n",
       "      <td>-1.99400</td>\n",
       "      <td>-1.52400</td>\n",
       "      <td>24.52250</td>\n",
       "      <td>22.32950</td>\n",
       "      <td>1012.9775</td>\n",
       "      <td>12.5995</td>\n",
       "    </tr>\n",
       "  </tbody>\n",
       "</table>\n",
       "</div>"
      ],
      "text/plain": [
       "                                       vento_zonal  vento_meridional  \\\n",
       "estacao latitude longitude data                                        \n",
       "SYCJ    6.5      -58.25    2014-12-27     -2.42125          -1.18900   \n",
       "                           2014-12-28     -1.44150          -1.30950   \n",
       "                           2014-12-29     -1.89675          -1.10675   \n",
       "                           2014-12-30     -1.99275          -1.36400   \n",
       "                           2014-12-31     -1.99400          -1.52400   \n",
       "\n",
       "                                       temperatura  temperatura_orvalho  \\\n",
       "estacao latitude longitude data                                           \n",
       "SYCJ    6.5      -58.25    2014-12-27     24.71025             22.90875   \n",
       "                           2014-12-28     24.14950             22.45925   \n",
       "                           2014-12-29     24.44250             22.60175   \n",
       "                           2014-12-30     24.46775             22.60025   \n",
       "                           2014-12-31     24.52250             22.32950   \n",
       "\n",
       "                                       pressao_reduzida  precipitacao  \n",
       "estacao latitude longitude data                                        \n",
       "SYCJ    6.5      -58.25    2014-12-27         1011.8875       11.2240  \n",
       "                           2014-12-28         1012.5300        9.5920  \n",
       "                           2014-12-29         1012.4500       10.1015  \n",
       "                           2014-12-30         1013.2025       16.6095  \n",
       "                           2014-12-31         1012.9775       12.5995  "
      ]
     },
     "execution_count": 4,
     "metadata": {},
     "output_type": "execute_result"
    }
   ],
   "source": [
    "df_sample = df.groupby(['estacao','latitude','longitude']).resample('D').mean()\n",
    "df_sample.precipitacao = df.groupby(['estacao','latitude','longitude'])[['precipitacao']].resample('D').sum()\n",
    "df = df_sample\n",
    "df.tail()"
   ]
  },
  {
   "cell_type": "markdown",
   "metadata": {},
   "source": [
    "### Alisamento (*smoothing*)"
   ]
  },
  {
   "cell_type": "markdown",
   "metadata": {},
   "source": [
    "Filtro de mediana móveis **(*Moving Median*)**"
   ]
  },
  {
   "cell_type": "code",
   "execution_count": 5,
   "metadata": {},
   "outputs": [],
   "source": [
    "df.temperatura = df.temperatura.groupby(level='estacao').transform(lambda x: signal.medfilt(x, kernel_size=31))\n",
    "df.pressao_reduzida = df.pressao_reduzida.groupby(level='estacao').transform(lambda x: signal.medfilt(x, kernel_size=31))\n",
    "df.vento_zonal = df.vento_zonal.groupby(level='estacao').transform(lambda x: signal.medfilt(x, kernel_size=31))\n",
    "df.vento_meridional = df.vento_meridional.groupby(level='estacao').transform(lambda x: signal.medfilt(x, kernel_size=31))\n",
    "df.temperatura_orvalho = df.temperatura_orvalho.groupby(level='estacao').transform(lambda x: signal.medfilt(x, kernel_size=31))\n",
    "df.precipitacao = df.precipitacao.groupby(level='estacao').transform(lambda x: signal.medfilt(x, kernel_size=31))"
   ]
  },
  {
   "cell_type": "markdown",
   "metadata": {},
   "source": [
    "Novamente a aplicação da técnica de **hierarquia conceitual** para separar a data em mês e dia"
   ]
  },
  {
   "cell_type": "code",
   "execution_count": 6,
   "metadata": {},
   "outputs": [],
   "source": [
    "df.reset_index(inplace=True)\n",
    "df.data = pd.to_datetime(df['data'])\n",
    "df.insert(2, 'mes', df.data.dt.month)\n",
    "df.insert(3, 'dia', df.data.dt.day)\n",
    "df.drop('data', axis=1, inplace=True)\n",
    "df[['mes','dia']] = df[['mes','dia']].astype('category')"
   ]
  },
  {
   "cell_type": "code",
   "execution_count": 7,
   "metadata": {},
   "outputs": [
    {
     "data": {
      "text/html": [
       "<div>\n",
       "<style scoped>\n",
       "    .dataframe tbody tr th:only-of-type {\n",
       "        vertical-align: middle;\n",
       "    }\n",
       "\n",
       "    .dataframe tbody tr th {\n",
       "        vertical-align: top;\n",
       "    }\n",
       "\n",
       "    .dataframe thead th {\n",
       "        text-align: right;\n",
       "    }\n",
       "</style>\n",
       "<table border=\"1\" class=\"dataframe\">\n",
       "  <thead>\n",
       "    <tr style=\"text-align: right;\">\n",
       "      <th></th>\n",
       "      <th>estacao</th>\n",
       "      <th>latitude</th>\n",
       "      <th>mes</th>\n",
       "      <th>dia</th>\n",
       "      <th>longitude</th>\n",
       "      <th>vento_zonal</th>\n",
       "      <th>vento_meridional</th>\n",
       "      <th>temperatura</th>\n",
       "      <th>temperatura_orvalho</th>\n",
       "      <th>pressao_reduzida</th>\n",
       "      <th>precipitacao</th>\n",
       "    </tr>\n",
       "  </thead>\n",
       "  <tbody>\n",
       "    <tr>\n",
       "      <th>0</th>\n",
       "      <td>13001</td>\n",
       "      <td>11.47</td>\n",
       "      <td>1</td>\n",
       "      <td>1</td>\n",
       "      <td>-23.0</td>\n",
       "      <td>-2.5</td>\n",
       "      <td>-4.0</td>\n",
       "      <td>21.2</td>\n",
       "      <td>16.3</td>\n",
       "      <td>1011.5</td>\n",
       "      <td>0.0</td>\n",
       "    </tr>\n",
       "    <tr>\n",
       "      <th>1</th>\n",
       "      <td>13001</td>\n",
       "      <td>11.47</td>\n",
       "      <td>1</td>\n",
       "      <td>2</td>\n",
       "      <td>-23.0</td>\n",
       "      <td>-2.7</td>\n",
       "      <td>-4.2</td>\n",
       "      <td>21.7</td>\n",
       "      <td>16.9</td>\n",
       "      <td>1011.8</td>\n",
       "      <td>0.0</td>\n",
       "    </tr>\n",
       "    <tr>\n",
       "      <th>2</th>\n",
       "      <td>13001</td>\n",
       "      <td>11.47</td>\n",
       "      <td>1</td>\n",
       "      <td>3</td>\n",
       "      <td>-23.0</td>\n",
       "      <td>-2.8</td>\n",
       "      <td>-4.9</td>\n",
       "      <td>21.7</td>\n",
       "      <td>17.2</td>\n",
       "      <td>1012.1</td>\n",
       "      <td>0.0</td>\n",
       "    </tr>\n",
       "    <tr>\n",
       "      <th>3</th>\n",
       "      <td>13001</td>\n",
       "      <td>11.47</td>\n",
       "      <td>1</td>\n",
       "      <td>4</td>\n",
       "      <td>-23.0</td>\n",
       "      <td>-3.4</td>\n",
       "      <td>-4.9</td>\n",
       "      <td>21.7</td>\n",
       "      <td>17.3</td>\n",
       "      <td>1012.3</td>\n",
       "      <td>0.0</td>\n",
       "    </tr>\n",
       "    <tr>\n",
       "      <th>4</th>\n",
       "      <td>13001</td>\n",
       "      <td>11.47</td>\n",
       "      <td>1</td>\n",
       "      <td>5</td>\n",
       "      <td>-23.0</td>\n",
       "      <td>-3.7</td>\n",
       "      <td>-5.0</td>\n",
       "      <td>21.7</td>\n",
       "      <td>17.5</td>\n",
       "      <td>1012.5</td>\n",
       "      <td>0.0</td>\n",
       "    </tr>\n",
       "  </tbody>\n",
       "</table>\n",
       "</div>"
      ],
      "text/plain": [
       "  estacao latitude mes dia longitude  vento_zonal  vento_meridional  \\\n",
       "0   13001    11.47   1   1     -23.0         -2.5              -4.0   \n",
       "1   13001    11.47   1   2     -23.0         -2.7              -4.2   \n",
       "2   13001    11.47   1   3     -23.0         -2.8              -4.9   \n",
       "3   13001    11.47   1   4     -23.0         -3.4              -4.9   \n",
       "4   13001    11.47   1   5     -23.0         -3.7              -5.0   \n",
       "\n",
       "   temperatura  temperatura_orvalho  pressao_reduzida  precipitacao  \n",
       "0         21.2                 16.3            1011.5           0.0  \n",
       "1         21.7                 16.9            1011.8           0.0  \n",
       "2         21.7                 17.2            1012.1           0.0  \n",
       "3         21.7                 17.3            1012.3           0.0  \n",
       "4         21.7                 17.5            1012.5           0.0  "
      ]
     },
     "execution_count": 7,
     "metadata": {},
     "output_type": "execute_result"
    }
   ],
   "source": [
    "df = df.round(1)\n",
    "df.head()"
   ]
  },
  {
   "cell_type": "code",
   "execution_count": 8,
   "metadata": {},
   "outputs": [],
   "source": [
    "assert df.isnull().values.sum() == 0"
   ]
  },
  {
   "cell_type": "markdown",
   "metadata": {},
   "source": [
    "***Binning*** dos dados de precipitação e posterior categorização (adição da *Label* de classificação da precipitação). "
   ]
  },
  {
   "cell_type": "code",
   "execution_count": 36,
   "metadata": {},
   "outputs": [
    {
     "name": "stdout",
     "output_type": "stream",
     "text": [
      "---- Frequência das classes de chuva ----\n",
      "sem chuva         212597\n",
      "chuva fraca       190129\n",
      "chuva moderada     85690\n",
      "chuva forte         2650\n",
      "Name: precipitacao_label, dtype: int64\n",
      "--- Percentual ---\n",
      "sem chuva         0.432930\n",
      "chuva fraca       0.387176\n",
      "chuva moderada    0.174498\n",
      "chuva forte       0.005396\n",
      "Name: precipitacao_label, dtype: float64\n"
     ]
    }
   ],
   "source": [
    "bins = [-1.,0.2,5.,25,2000]\n",
    "group_names = ['sem chuva', 'chuva fraca', 'chuva moderada', 'chuva forte']\n",
    "df['precipitacao_label'] = pd.cut(df.precipitacao, bins, labels=group_names)\n",
    "#df['precipitacao_label'] = np.where(df.precipitacao > 0., 'com chuva', 'sem chuva')\n",
    "\n",
    "print('---- Frequência das classes de chuva ----')\n",
    "print(df.precipitacao_label.value_counts())\n",
    "\n",
    "print('--- Percentual ---')\n",
    "print(df.precipitacao_label.value_counts(normalize=True))"
   ]
  },
  {
   "cell_type": "markdown",
   "metadata": {},
   "source": [
    "A classe \"sem chuva\" representa aproximadamente 43% do total de classes"
   ]
  },
  {
   "cell_type": "code",
   "execution_count": 10,
   "metadata": {},
   "outputs": [
    {
     "name": "stdout",
     "output_type": "stream",
     "text": [
      "---- Intervalo de [0, 0.2] ----\n"
     ]
    },
    {
     "data": {
      "text/plain": [
       "['sem chuva']"
      ]
     },
     "execution_count": 10,
     "metadata": {},
     "output_type": "execute_result"
    }
   ],
   "source": [
    "print('---- Intervalo de [0, 0.2] ----')\n",
    "df[(df.precipitacao >= 0.) & (df.precipitacao <= 0.2)]['precipitacao_label'].unique().tolist()"
   ]
  },
  {
   "cell_type": "code",
   "execution_count": 11,
   "metadata": {},
   "outputs": [
    {
     "name": "stdout",
     "output_type": "stream",
     "text": [
      "---- Intervalo de ]0.2, 5] ----\n"
     ]
    },
    {
     "data": {
      "text/plain": [
       "['chuva fraca']"
      ]
     },
     "execution_count": 11,
     "metadata": {},
     "output_type": "execute_result"
    }
   ],
   "source": [
    "print('---- Intervalo de ]0.2, 5] ----')\n",
    "df[(df.precipitacao > 0.2) & (df.precipitacao <= 5.)]['precipitacao_label'].unique().tolist()"
   ]
  },
  {
   "cell_type": "code",
   "execution_count": 12,
   "metadata": {},
   "outputs": [
    {
     "name": "stdout",
     "output_type": "stream",
     "text": [
      "---- Intervalo de ]5, 25] ----\n"
     ]
    },
    {
     "data": {
      "text/plain": [
       "['chuva moderada']"
      ]
     },
     "execution_count": 12,
     "metadata": {},
     "output_type": "execute_result"
    }
   ],
   "source": [
    "print('---- Intervalo de ]5, 25] ----')\n",
    "df[(df.precipitacao > 5.) & (df.precipitacao <= 25.)]['precipitacao_label'].unique().tolist()"
   ]
  },
  {
   "cell_type": "code",
   "execution_count": 13,
   "metadata": {},
   "outputs": [
    {
     "name": "stdout",
     "output_type": "stream",
     "text": [
      "---- Valores maiores que 25 ----\n"
     ]
    },
    {
     "data": {
      "text/plain": [
       "['chuva forte']"
      ]
     },
     "execution_count": 13,
     "metadata": {},
     "output_type": "execute_result"
    }
   ],
   "source": [
    "print('---- Valores maiores que 25 ----')\n",
    "df[df.precipitacao > 25.]['precipitacao_label'].unique().tolist()"
   ]
  },
  {
   "cell_type": "markdown",
   "metadata": {},
   "source": [
    "### Normalização Min-Max"
   ]
  },
  {
   "cell_type": "markdown",
   "metadata": {},
   "source": [
    "Reduz o intervalo das variaveis de forma que elas estejam entre 0 e 1 (ou -1 a 1, se houver valores negativos)."
   ]
  },
  {
   "cell_type": "code",
   "execution_count": 14,
   "metadata": {},
   "outputs": [
    {
     "data": {
      "text/html": [
       "<div>\n",
       "<style scoped>\n",
       "    .dataframe tbody tr th:only-of-type {\n",
       "        vertical-align: middle;\n",
       "    }\n",
       "\n",
       "    .dataframe tbody tr th {\n",
       "        vertical-align: top;\n",
       "    }\n",
       "\n",
       "    .dataframe thead th {\n",
       "        text-align: right;\n",
       "    }\n",
       "</style>\n",
       "<table border=\"1\" class=\"dataframe\">\n",
       "  <thead>\n",
       "    <tr style=\"text-align: right;\">\n",
       "      <th></th>\n",
       "      <th>estacao</th>\n",
       "      <th>latitude</th>\n",
       "      <th>mes</th>\n",
       "      <th>dia</th>\n",
       "      <th>longitude</th>\n",
       "      <th>vento_zonal</th>\n",
       "      <th>vento_meridional</th>\n",
       "      <th>temperatura</th>\n",
       "      <th>temperatura_orvalho</th>\n",
       "      <th>pressao_reduzida</th>\n",
       "      <th>precipitacao</th>\n",
       "      <th>precipitacao_label</th>\n",
       "    </tr>\n",
       "  </thead>\n",
       "  <tbody>\n",
       "    <tr>\n",
       "      <th>0</th>\n",
       "      <td>13001</td>\n",
       "      <td>11.47</td>\n",
       "      <td>1</td>\n",
       "      <td>1</td>\n",
       "      <td>-23.0</td>\n",
       "      <td>0.452830</td>\n",
       "      <td>0.321429</td>\n",
       "      <td>0.845272</td>\n",
       "      <td>0.861272</td>\n",
       "      <td>0.776627</td>\n",
       "      <td>0.0</td>\n",
       "      <td>sem chuva</td>\n",
       "    </tr>\n",
       "    <tr>\n",
       "      <th>1</th>\n",
       "      <td>13001</td>\n",
       "      <td>11.47</td>\n",
       "      <td>1</td>\n",
       "      <td>2</td>\n",
       "      <td>-23.0</td>\n",
       "      <td>0.445283</td>\n",
       "      <td>0.309524</td>\n",
       "      <td>0.852436</td>\n",
       "      <td>0.869942</td>\n",
       "      <td>0.781065</td>\n",
       "      <td>0.0</td>\n",
       "      <td>sem chuva</td>\n",
       "    </tr>\n",
       "    <tr>\n",
       "      <th>2</th>\n",
       "      <td>13001</td>\n",
       "      <td>11.47</td>\n",
       "      <td>1</td>\n",
       "      <td>3</td>\n",
       "      <td>-23.0</td>\n",
       "      <td>0.441509</td>\n",
       "      <td>0.267857</td>\n",
       "      <td>0.852436</td>\n",
       "      <td>0.874277</td>\n",
       "      <td>0.785503</td>\n",
       "      <td>0.0</td>\n",
       "      <td>sem chuva</td>\n",
       "    </tr>\n",
       "    <tr>\n",
       "      <th>3</th>\n",
       "      <td>13001</td>\n",
       "      <td>11.47</td>\n",
       "      <td>1</td>\n",
       "      <td>4</td>\n",
       "      <td>-23.0</td>\n",
       "      <td>0.418868</td>\n",
       "      <td>0.267857</td>\n",
       "      <td>0.852436</td>\n",
       "      <td>0.875723</td>\n",
       "      <td>0.788462</td>\n",
       "      <td>0.0</td>\n",
       "      <td>sem chuva</td>\n",
       "    </tr>\n",
       "    <tr>\n",
       "      <th>4</th>\n",
       "      <td>13001</td>\n",
       "      <td>11.47</td>\n",
       "      <td>1</td>\n",
       "      <td>5</td>\n",
       "      <td>-23.0</td>\n",
       "      <td>0.407547</td>\n",
       "      <td>0.261905</td>\n",
       "      <td>0.852436</td>\n",
       "      <td>0.878613</td>\n",
       "      <td>0.791420</td>\n",
       "      <td>0.0</td>\n",
       "      <td>sem chuva</td>\n",
       "    </tr>\n",
       "  </tbody>\n",
       "</table>\n",
       "</div>"
      ],
      "text/plain": [
       "  estacao latitude mes dia longitude  vento_zonal  vento_meridional  \\\n",
       "0   13001    11.47   1   1     -23.0     0.452830          0.321429   \n",
       "1   13001    11.47   1   2     -23.0     0.445283          0.309524   \n",
       "2   13001    11.47   1   3     -23.0     0.441509          0.267857   \n",
       "3   13001    11.47   1   4     -23.0     0.418868          0.267857   \n",
       "4   13001    11.47   1   5     -23.0     0.407547          0.261905   \n",
       "\n",
       "   temperatura  temperatura_orvalho  pressao_reduzida  precipitacao  \\\n",
       "0     0.845272             0.861272          0.776627           0.0   \n",
       "1     0.852436             0.869942          0.781065           0.0   \n",
       "2     0.852436             0.874277          0.785503           0.0   \n",
       "3     0.852436             0.875723          0.788462           0.0   \n",
       "4     0.852436             0.878613          0.791420           0.0   \n",
       "\n",
       "  precipitacao_label  \n",
       "0          sem chuva  \n",
       "1          sem chuva  \n",
       "2          sem chuva  \n",
       "3          sem chuva  \n",
       "4          sem chuva  "
      ]
     },
     "execution_count": 14,
     "metadata": {},
     "output_type": "execute_result"
    }
   ],
   "source": [
    "df_norm = df.copy()\n",
    "df_numeric = df.select_dtypes(include = ['float64'])\n",
    "df_norm[df_numeric.columns] = MinMaxScaler().fit_transform(df_numeric)\n",
    "df_norm.head()"
   ]
  },
  {
   "cell_type": "markdown",
   "metadata": {},
   "source": [
    "Os atributos que foram tratados com a técnica de hierarquia conceitual foram representados de forma binária a partir de n atributos, um para cada possível valor dos atributos"
   ]
  },
  {
   "cell_type": "markdown",
   "metadata": {},
   "source": [
    "### Representação Binária dos atributos"
   ]
  },
  {
   "cell_type": "markdown",
   "metadata": {},
   "source": [
    "#### One-Hot Encoding"
   ]
  },
  {
   "cell_type": "code",
   "execution_count": 15,
   "metadata": {},
   "outputs": [],
   "source": [
    "#df_norm = pd.concat([df_norm, pd.get_dummies(df_norm.precipitacao_label)],axis=1)\n",
    "#df_norm.drop('precipitacao_label', axis=1, inplace=True)\n",
    "#df_norm.head()"
   ]
  },
  {
   "cell_type": "markdown",
   "metadata": {},
   "source": [
    "#### Label Encoding"
   ]
  },
  {
   "cell_type": "code",
   "execution_count": 16,
   "metadata": {},
   "outputs": [
    {
     "data": {
      "text/html": [
       "<div>\n",
       "<style scoped>\n",
       "    .dataframe tbody tr th:only-of-type {\n",
       "        vertical-align: middle;\n",
       "    }\n",
       "\n",
       "    .dataframe tbody tr th {\n",
       "        vertical-align: top;\n",
       "    }\n",
       "\n",
       "    .dataframe thead th {\n",
       "        text-align: right;\n",
       "    }\n",
       "</style>\n",
       "<table border=\"1\" class=\"dataframe\">\n",
       "  <thead>\n",
       "    <tr style=\"text-align: right;\">\n",
       "      <th></th>\n",
       "      <th>estacao</th>\n",
       "      <th>latitude</th>\n",
       "      <th>mes</th>\n",
       "      <th>dia</th>\n",
       "      <th>longitude</th>\n",
       "      <th>vento_zonal</th>\n",
       "      <th>vento_meridional</th>\n",
       "      <th>temperatura</th>\n",
       "      <th>temperatura_orvalho</th>\n",
       "      <th>pressao_reduzida</th>\n",
       "      <th>precipitacao</th>\n",
       "      <th>precipitacao_label</th>\n",
       "    </tr>\n",
       "  </thead>\n",
       "  <tbody>\n",
       "    <tr>\n",
       "      <th>0</th>\n",
       "      <td>0</td>\n",
       "      <td>11.47</td>\n",
       "      <td>1</td>\n",
       "      <td>1</td>\n",
       "      <td>-23.0</td>\n",
       "      <td>0.452830</td>\n",
       "      <td>0.321429</td>\n",
       "      <td>0.845272</td>\n",
       "      <td>0.861272</td>\n",
       "      <td>0.776627</td>\n",
       "      <td>0.0</td>\n",
       "      <td>0</td>\n",
       "    </tr>\n",
       "    <tr>\n",
       "      <th>1</th>\n",
       "      <td>0</td>\n",
       "      <td>11.47</td>\n",
       "      <td>1</td>\n",
       "      <td>2</td>\n",
       "      <td>-23.0</td>\n",
       "      <td>0.445283</td>\n",
       "      <td>0.309524</td>\n",
       "      <td>0.852436</td>\n",
       "      <td>0.869942</td>\n",
       "      <td>0.781065</td>\n",
       "      <td>0.0</td>\n",
       "      <td>0</td>\n",
       "    </tr>\n",
       "    <tr>\n",
       "      <th>2</th>\n",
       "      <td>0</td>\n",
       "      <td>11.47</td>\n",
       "      <td>1</td>\n",
       "      <td>3</td>\n",
       "      <td>-23.0</td>\n",
       "      <td>0.441509</td>\n",
       "      <td>0.267857</td>\n",
       "      <td>0.852436</td>\n",
       "      <td>0.874277</td>\n",
       "      <td>0.785503</td>\n",
       "      <td>0.0</td>\n",
       "      <td>0</td>\n",
       "    </tr>\n",
       "    <tr>\n",
       "      <th>3</th>\n",
       "      <td>0</td>\n",
       "      <td>11.47</td>\n",
       "      <td>1</td>\n",
       "      <td>4</td>\n",
       "      <td>-23.0</td>\n",
       "      <td>0.418868</td>\n",
       "      <td>0.267857</td>\n",
       "      <td>0.852436</td>\n",
       "      <td>0.875723</td>\n",
       "      <td>0.788462</td>\n",
       "      <td>0.0</td>\n",
       "      <td>0</td>\n",
       "    </tr>\n",
       "    <tr>\n",
       "      <th>4</th>\n",
       "      <td>0</td>\n",
       "      <td>11.47</td>\n",
       "      <td>1</td>\n",
       "      <td>5</td>\n",
       "      <td>-23.0</td>\n",
       "      <td>0.407547</td>\n",
       "      <td>0.261905</td>\n",
       "      <td>0.852436</td>\n",
       "      <td>0.878613</td>\n",
       "      <td>0.791420</td>\n",
       "      <td>0.0</td>\n",
       "      <td>0</td>\n",
       "    </tr>\n",
       "  </tbody>\n",
       "</table>\n",
       "</div>"
      ],
      "text/plain": [
       "   estacao latitude mes dia longitude  vento_zonal  vento_meridional  \\\n",
       "0        0    11.47   1   1     -23.0     0.452830          0.321429   \n",
       "1        0    11.47   1   2     -23.0     0.445283          0.309524   \n",
       "2        0    11.47   1   3     -23.0     0.441509          0.267857   \n",
       "3        0    11.47   1   4     -23.0     0.418868          0.267857   \n",
       "4        0    11.47   1   5     -23.0     0.407547          0.261905   \n",
       "\n",
       "   temperatura  temperatura_orvalho  pressao_reduzida  precipitacao  \\\n",
       "0     0.845272             0.861272          0.776627           0.0   \n",
       "1     0.852436             0.869942          0.781065           0.0   \n",
       "2     0.852436             0.874277          0.785503           0.0   \n",
       "3     0.852436             0.875723          0.788462           0.0   \n",
       "4     0.852436             0.878613          0.791420           0.0   \n",
       "\n",
       "   precipitacao_label  \n",
       "0                   0  \n",
       "1                   0  \n",
       "2                   0  \n",
       "3                   0  \n",
       "4                   0  "
      ]
     },
     "execution_count": 16,
     "metadata": {},
     "output_type": "execute_result"
    }
   ],
   "source": [
    "labels, levels = pd.factorize(df_norm.precipitacao_label)\n",
    "df_norm.precipitacao_label = labels\n",
    "\n",
    "labels, levels = pd.factorize(df_norm.estacao)\n",
    "df_norm.estacao = labels\n",
    "df_norm.head()"
   ]
  },
  {
   "cell_type": "markdown",
   "metadata": {},
   "source": [
    "## Redução dos dados"
   ]
  },
  {
   "cell_type": "markdown",
   "metadata": {},
   "source": [
    "### Filtragem por domínio"
   ]
  },
  {
   "cell_type": "markdown",
   "metadata": {},
   "source": [
    "Para garantir o balanceamento em relação a quantidade de dados para cada estação, foram retirados do conjunto de dados as estações que possuiam menos de 350 dados dentre os 365 que deveriam existir para cada dia do ano"
   ]
  },
  {
   "cell_type": "code",
   "execution_count": 17,
   "metadata": {},
   "outputs": [],
   "source": [
    "def percentual(total_geral, total_analisado, texto):\n",
    "    print(texto + ': {0:.2f}'.format((total_analisado * 100)/total_geral)+'%')"
   ]
  },
  {
   "cell_type": "code",
   "execution_count": 18,
   "metadata": {},
   "outputs": [
    {
     "name": "stdout",
     "output_type": "stream",
     "text": [
      "Percentual de estações removidas: 2.56%\n"
     ]
    }
   ],
   "source": [
    "df_norm.estacao.value_counts()\n",
    "total_estacao = df_norm.estacao.value_counts().count()\n",
    "sr_estacao = df_norm.estacao.value_counts() < 360\n",
    "estacao_remover = sr_estacao[sr_estacao]\n",
    "percentual(total_estacao, estacao_remover.count(), 'Percentual de estações removidas')"
   ]
  },
  {
   "cell_type": "code",
   "execution_count": 19,
   "metadata": {},
   "outputs": [
    {
     "name": "stdout",
     "output_type": "stream",
     "text": [
      "Percentual de registros removidos: 0.92%\n"
     ]
    }
   ],
   "source": [
    "total_registros = df_norm.shape[0]\n",
    "registros_estacao_remover = df_norm[df_norm.groupby('estacao')['estacao'].transform('size') < 360].shape[0]\n",
    "percentual(total_registros, registros_estacao_remover, 'Percentual de registros removidos')"
   ]
  },
  {
   "cell_type": "code",
   "execution_count": 20,
   "metadata": {},
   "outputs": [],
   "source": [
    "df_filter = df_norm[~df_norm.estacao.isin(estacao_remover.index)].copy()\n",
    "#df_norm.groupby('estacao').filter(lambda x: len(x) > 360)"
   ]
  },
  {
   "cell_type": "code",
   "execution_count": 21,
   "metadata": {},
   "outputs": [
    {
     "data": {
      "text/plain": [
       "(486545, 12)"
      ]
     },
     "execution_count": 21,
     "metadata": {},
     "output_type": "execute_result"
    }
   ],
   "source": [
    "df_filter.shape"
   ]
  },
  {
   "cell_type": "code",
   "execution_count": 22,
   "metadata": {},
   "outputs": [
    {
     "name": "stdout",
     "output_type": "stream",
     "text": [
      "Percentual de registros mantidos: 75.17%\n"
     ]
    }
   ],
   "source": [
    "df_filter[['latitude','longitude']] = df_filter[['latitude','longitude']].astype('float64')\n",
    "lat = (df_filter.latitude >= -32.) & (df_filter.latitude <= 5.8)\n",
    "lon = (df_filter.longitude >= -73.) & (df_filter.longitude <= -33.)\n",
    "df_brasil = df_filter[(lat) & (lon)].copy()\n",
    "\n",
    "percentual(df_filter.shape[0], df_brasil.shape[0], 'Percentual de registros mantidos')"
   ]
  },
  {
   "cell_type": "code",
   "execution_count": 23,
   "metadata": {},
   "outputs": [
    {
     "data": {
      "text/plain": [
       "(365730, 12)"
      ]
     },
     "execution_count": 23,
     "metadata": {},
     "output_type": "execute_result"
    }
   ],
   "source": [
    "df_brasil.shape"
   ]
  },
  {
   "cell_type": "markdown",
   "metadata": {},
   "source": [
    "### Seleção de atributo"
   ]
  },
  {
   "cell_type": "markdown",
   "metadata": {},
   "source": [
    "#### Seleção de Atributos baseada em Correlação"
   ]
  },
  {
   "cell_type": "markdown",
   "metadata": {},
   "source": [
    "Remoção de atributos reduntantes ou altamente correlacionados"
   ]
  },
  {
   "cell_type": "code",
   "execution_count": 24,
   "metadata": {},
   "outputs": [
    {
     "data": {
      "text/html": [
       "<div>\n",
       "<style scoped>\n",
       "    .dataframe tbody tr th:only-of-type {\n",
       "        vertical-align: middle;\n",
       "    }\n",
       "\n",
       "    .dataframe tbody tr th {\n",
       "        vertical-align: top;\n",
       "    }\n",
       "\n",
       "    .dataframe thead th {\n",
       "        text-align: right;\n",
       "    }\n",
       "</style>\n",
       "<table border=\"1\" class=\"dataframe\">\n",
       "  <thead>\n",
       "    <tr style=\"text-align: right;\">\n",
       "      <th></th>\n",
       "      <th>estacao</th>\n",
       "      <th>mes</th>\n",
       "      <th>dia</th>\n",
       "      <th>vento_zonal</th>\n",
       "      <th>vento_meridional</th>\n",
       "      <th>temperatura</th>\n",
       "      <th>temperatura_orvalho</th>\n",
       "      <th>pressao_reduzida</th>\n",
       "      <th>precipitacao_label</th>\n",
       "    </tr>\n",
       "  </thead>\n",
       "  <tbody>\n",
       "    <tr>\n",
       "      <th>5110</th>\n",
       "      <td>14</td>\n",
       "      <td>1</td>\n",
       "      <td>1</td>\n",
       "      <td>0.54717</td>\n",
       "      <td>0.529762</td>\n",
       "      <td>0.869628</td>\n",
       "      <td>0.916185</td>\n",
       "      <td>0.758876</td>\n",
       "      <td>0</td>\n",
       "    </tr>\n",
       "    <tr>\n",
       "      <th>5111</th>\n",
       "      <td>14</td>\n",
       "      <td>1</td>\n",
       "      <td>2</td>\n",
       "      <td>0.54717</td>\n",
       "      <td>0.494048</td>\n",
       "      <td>0.873926</td>\n",
       "      <td>0.919075</td>\n",
       "      <td>0.758876</td>\n",
       "      <td>0</td>\n",
       "    </tr>\n",
       "    <tr>\n",
       "      <th>5112</th>\n",
       "      <td>14</td>\n",
       "      <td>1</td>\n",
       "      <td>3</td>\n",
       "      <td>0.54717</td>\n",
       "      <td>0.434524</td>\n",
       "      <td>0.878223</td>\n",
       "      <td>0.919075</td>\n",
       "      <td>0.770710</td>\n",
       "      <td>0</td>\n",
       "    </tr>\n",
       "    <tr>\n",
       "      <th>5113</th>\n",
       "      <td>14</td>\n",
       "      <td>1</td>\n",
       "      <td>4</td>\n",
       "      <td>0.54717</td>\n",
       "      <td>0.398810</td>\n",
       "      <td>0.878223</td>\n",
       "      <td>0.919075</td>\n",
       "      <td>0.807692</td>\n",
       "      <td>0</td>\n",
       "    </tr>\n",
       "    <tr>\n",
       "      <th>5114</th>\n",
       "      <td>14</td>\n",
       "      <td>1</td>\n",
       "      <td>5</td>\n",
       "      <td>0.54717</td>\n",
       "      <td>0.375000</td>\n",
       "      <td>0.881089</td>\n",
       "      <td>0.921965</td>\n",
       "      <td>0.815089</td>\n",
       "      <td>0</td>\n",
       "    </tr>\n",
       "  </tbody>\n",
       "</table>\n",
       "</div>"
      ],
      "text/plain": [
       "      estacao mes dia  vento_zonal  vento_meridional  temperatura  \\\n",
       "5110       14   1   1      0.54717          0.529762     0.869628   \n",
       "5111       14   1   2      0.54717          0.494048     0.873926   \n",
       "5112       14   1   3      0.54717          0.434524     0.878223   \n",
       "5113       14   1   4      0.54717          0.398810     0.878223   \n",
       "5114       14   1   5      0.54717          0.375000     0.881089   \n",
       "\n",
       "      temperatura_orvalho  pressao_reduzida  precipitacao_label  \n",
       "5110             0.916185          0.758876                   0  \n",
       "5111             0.919075          0.758876                   0  \n",
       "5112             0.919075          0.770710                   0  \n",
       "5113             0.919075          0.807692                   0  \n",
       "5114             0.921965          0.815089                   0  "
      ]
     },
     "execution_count": 24,
     "metadata": {},
     "output_type": "execute_result"
    }
   ],
   "source": [
    "df_brasil.drop(['latitude','longitude','precipitacao'], axis=1, inplace=True)\n",
    "df_brasil.head()"
   ]
  },
  {
   "cell_type": "code",
   "execution_count": 25,
   "metadata": {},
   "outputs": [
    {
     "data": {
      "text/plain": [
       "<matplotlib.axes._subplots.AxesSubplot at 0x1d2cd44f2e8>"
      ]
     },
     "execution_count": 25,
     "metadata": {},
     "output_type": "execute_result"
    },
    {
     "data": {
      "image/png": "[encoded data removed]",
      "text/plain": [
       "<Figure size 432x288 with 2 Axes>"
      ]
     },
     "metadata": {},
     "output_type": "display_data"
    }
   ],
   "source": [
    "df_features = df_brasil.iloc[:,:8]\n",
    "sns.heatmap(df_features.corr(), annot=True, cmap='Blues', fmt='.0%')"
   ]
  },
  {
   "cell_type": "code",
   "execution_count": 26,
   "metadata": {},
   "outputs": [],
   "source": [
    "df_brasil.drop(['temperatura_orvalho'], axis=1, inplace=True)"
   ]
  },
  {
   "cell_type": "markdown",
   "metadata": {},
   "source": [
    "###  Amostragem estratificada"
   ]
  },
  {
   "cell_type": "markdown",
   "metadata": {},
   "source": [
    "Mantem a mesma proporção entre as classes existentes no conjunto de dados original"
   ]
  },
  {
   "cell_type": "code",
   "execution_count": 27,
   "metadata": {},
   "outputs": [],
   "source": [
    "X = df_brasil.iloc[:,:7].values\n",
    "y = df_brasil.iloc[:,7:11].values\n",
    "X_train, X_test, y_train, y_test = train_test_split(X, y, test_size=0.2, stratify=y)"
   ]
  },
  {
   "cell_type": "code",
   "execution_count": 29,
   "metadata": {},
   "outputs": [
    {
     "name": "stdout",
     "output_type": "stream",
     "text": [
      "---- Frequência das classes de chuva ----\n",
      "sem chuva         126778\n",
      "chuva fraca       111980\n",
      "chuva moderada     53757\n",
      "chuva forte           69\n",
      "Name: classes, dtype: int64\n",
      "--- Percentual---\n",
      "sem chuva         0.433305\n",
      "chuva fraca       0.382728\n",
      "chuva moderada    0.183732\n",
      "chuva forte       0.000236\n",
      "Name: classes, dtype: float64\n"
     ]
    }
   ],
   "source": [
    "df_y = pd.DataFrame(y_train, columns=['classes'])\n",
    "df_y.classes = df_y.classes.map({0:'sem chuva', 1:'chuva fraca', 2:'chuva moderada', 3:'chuva forte'})\n",
    "\n",
    "print('---- Frequência das classes de chuva ----')\n",
    "print(df_y.classes.value_counts())\n",
    "\n",
    "print('--- Percentual---')\n",
    "print(df_y.classes.value_counts(normalize=True))\n",
    "#df_y = pd.DataFrame(y_train, columns=['sem chuva', 'chuva fraca', 'chuva moderada', 'chuva forte'])\n",
    "#df_y.sum()"
   ]
  },
  {
   "cell_type": "markdown",
   "metadata": {},
   "source": [
    "Após a estratificação, a classe \"sem chuva\" continua a representar aproximadamente 43% do total de classes"
   ]
  },
  {
   "cell_type": "markdown",
   "metadata": {},
   "source": [
    "## Balanceamento dos dados"
   ]
  },
  {
   "cell_type": "markdown",
   "metadata": {},
   "source": [
    "SMOTE é um método de balanceamento de dados que gera tuplas sintéticas da classe minoritária no conjunto de dados. Deve ser feita apenas nos dados de treinamento."
   ]
  },
  {
   "cell_type": "code",
   "execution_count": 30,
   "metadata": {},
   "outputs": [],
   "source": [
    "smt = SMOTE()\n",
    "X_train, y_train = smt.fit_sample(X_train, y_train.flatten())"
   ]
  },
  {
   "cell_type": "code",
   "execution_count": 31,
   "metadata": {},
   "outputs": [
    {
     "data": {
      "text/plain": [
       "chuva fraca       126778\n",
       "chuva forte       126778\n",
       "sem chuva         126778\n",
       "chuva moderada    126778\n",
       "Name: classes, dtype: int64"
      ]
     },
     "execution_count": 31,
     "metadata": {},
     "output_type": "execute_result"
    }
   ],
   "source": [
    "df_y = pd.DataFrame(y_train, columns=['classes'])\n",
    "df_y.classes = df_y.classes.map({0:'sem chuva', 1:'chuva fraca', 2:'chuva moderada', 3:'chuva forte'})\n",
    "df_y.classes.value_counts()"
   ]
  },
  {
   "cell_type": "code",
   "execution_count": 32,
   "metadata": {},
   "outputs": [],
   "source": [
    "np.savetxt('./dados/X_train.csv', X_train, delimiter=\",\", fmt='%g')"
   ]
  },
  {
   "cell_type": "code",
   "execution_count": 33,
   "metadata": {},
   "outputs": [],
   "source": [
    "np.savetxt('./dados/y_train.csv', y_train, delimiter=\",\", fmt='%g')"
   ]
  },
  {
   "cell_type": "code",
   "execution_count": 34,
   "metadata": {},
   "outputs": [],
   "source": [
    "np.savetxt('./dados/X_test.csv', X_test, delimiter=\",\", fmt='%g')"
   ]
  },
  {
   "cell_type": "code",
   "execution_count": 35,
   "metadata": {},
   "outputs": [],
   "source": [
    "np.savetxt('./dados/y_test.csv', y_test, delimiter=\",\", fmt='%g')"
   ]
  }
 ],
 "metadata": {
  "kernelspec": {
   "display_name": "Python 3",
   "language": "python",
   "name": "python3"
  },
  "language_info": {
   "codemirror_mode": {
    "name": "ipython",
    "version": 3
   },
   "file_extension": ".py",
   "mimetype": "text/x-python",
   "name": "python",
   "nbconvert_exporter": "python",
   "pygments_lexer": "ipython3",
   "version": "3.6.5"
  }
 },
 "nbformat": 4,
 "nbformat_minor": 2
}
